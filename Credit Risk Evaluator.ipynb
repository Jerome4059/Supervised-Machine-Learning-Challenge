{
 "cells": [
  {
   "cell_type": "code",
   "execution_count": 44,
   "metadata": {},
   "outputs": [],
   "source": [
    "import numpy as np\n",
    "import pandas as pd\n",
    "from pathlib import Path\n",
    "# Additional imports:\n",
    "from sklearn.preprocessing import StandardScaler, MinMaxScaler, LabelEncoder\n",
    "from sklearn.linear_model import LogisticRegression\n",
    "from sklearn.ensemble import RandomForestClassifier"
   ]
  },
  {
   "cell_type": "code",
   "execution_count": 45,
   "metadata": {},
   "outputs": [],
   "source": [
    "train_df = pd.read_csv(Path('Resources/2019loans.csv'))\n",
    "test_df = pd.read_csv(Path('Resources/2020Q1loans.csv'))"
   ]
  },
  {
   "cell_type": "code",
   "execution_count": 46,
   "metadata": {},
   "outputs": [],
   "source": [
    "# Convert categorical data to numeric and separate target feature for training data\n",
    "y_train = train_df[\"loan_status\"]\n",
    "X_train = train_df.drop([\"Unnamed: 0\", \"index\", \"loan_status\"], axis = 1)"
   ]
  },
  {
   "cell_type": "code",
   "execution_count": 47,
   "metadata": {},
   "outputs": [
    {
     "name": "stdout",
     "output_type": "stream",
     "text": [
      "<class 'pandas.core.frame.DataFrame'>\n",
      "RangeIndex: 12180 entries, 0 to 12179\n",
      "Data columns (total 85 columns):\n",
      " #   Column                               Non-Null Count  Dtype  \n",
      "---  ------                               --------------  -----  \n",
      " 0   loan_amnt                            12180 non-null  float64\n",
      " 1   int_rate                             12180 non-null  float64\n",
      " 2   installment                          12180 non-null  float64\n",
      " 3   annual_inc                           12180 non-null  float64\n",
      " 4   dti                                  12180 non-null  float64\n",
      " 5   delinq_2yrs                          12180 non-null  float64\n",
      " 6   inq_last_6mths                       12180 non-null  float64\n",
      " 7   open_acc                             12180 non-null  float64\n",
      " 8   pub_rec                              12180 non-null  float64\n",
      " 9   revol_bal                            12180 non-null  float64\n",
      " 10  total_acc                            12180 non-null  float64\n",
      " 11  out_prncp                            12180 non-null  float64\n",
      " 12  out_prncp_inv                        12180 non-null  float64\n",
      " 13  total_pymnt                          12180 non-null  float64\n",
      " 14  total_pymnt_inv                      12180 non-null  float64\n",
      " 15  total_rec_prncp                      12180 non-null  float64\n",
      " 16  total_rec_int                        12180 non-null  float64\n",
      " 17  total_rec_late_fee                   12180 non-null  float64\n",
      " 18  recoveries                           12180 non-null  float64\n",
      " 19  collection_recovery_fee              12180 non-null  float64\n",
      " 20  last_pymnt_amnt                      12180 non-null  float64\n",
      " 21  collections_12_mths_ex_med           12180 non-null  float64\n",
      " 22  policy_code                          12180 non-null  float64\n",
      " 23  acc_now_delinq                       12180 non-null  float64\n",
      " 24  tot_coll_amt                         12180 non-null  float64\n",
      " 25  tot_cur_bal                          12180 non-null  float64\n",
      " 26  open_acc_6m                          12180 non-null  float64\n",
      " 27  open_act_il                          12180 non-null  float64\n",
      " 28  open_il_12m                          12180 non-null  float64\n",
      " 29  open_il_24m                          12180 non-null  float64\n",
      " 30  mths_since_rcnt_il                   12180 non-null  float64\n",
      " 31  total_bal_il                         12180 non-null  float64\n",
      " 32  il_util                              12180 non-null  float64\n",
      " 33  open_rv_12m                          12180 non-null  float64\n",
      " 34  open_rv_24m                          12180 non-null  float64\n",
      " 35  max_bal_bc                           12180 non-null  float64\n",
      " 36  all_util                             12180 non-null  float64\n",
      " 37  total_rev_hi_lim                     12180 non-null  float64\n",
      " 38  inq_fi                               12180 non-null  float64\n",
      " 39  total_cu_tl                          12180 non-null  float64\n",
      " 40  inq_last_12m                         12180 non-null  float64\n",
      " 41  acc_open_past_24mths                 12180 non-null  float64\n",
      " 42  avg_cur_bal                          12180 non-null  float64\n",
      " 43  bc_open_to_buy                       12180 non-null  float64\n",
      " 44  bc_util                              12180 non-null  float64\n",
      " 45  chargeoff_within_12_mths             12180 non-null  float64\n",
      " 46  delinq_amnt                          12180 non-null  float64\n",
      " 47  mo_sin_old_il_acct                   12180 non-null  float64\n",
      " 48  mo_sin_old_rev_tl_op                 12180 non-null  float64\n",
      " 49  mo_sin_rcnt_rev_tl_op                12180 non-null  float64\n",
      " 50  mo_sin_rcnt_tl                       12180 non-null  float64\n",
      " 51  mort_acc                             12180 non-null  float64\n",
      " 52  mths_since_recent_bc                 12180 non-null  float64\n",
      " 53  mths_since_recent_inq                12180 non-null  float64\n",
      " 54  num_accts_ever_120_pd                12180 non-null  float64\n",
      " 55  num_actv_bc_tl                       12180 non-null  float64\n",
      " 56  num_actv_rev_tl                      12180 non-null  float64\n",
      " 57  num_bc_sats                          12180 non-null  float64\n",
      " 58  num_bc_tl                            12180 non-null  float64\n",
      " 59  num_il_tl                            12180 non-null  float64\n",
      " 60  num_op_rev_tl                        12180 non-null  float64\n",
      " 61  num_rev_accts                        12180 non-null  float64\n",
      " 62  num_rev_tl_bal_gt_0                  12180 non-null  float64\n",
      " 63  num_sats                             12180 non-null  float64\n",
      " 64  num_tl_120dpd_2m                     12180 non-null  float64\n",
      " 65  num_tl_30dpd                         12180 non-null  float64\n",
      " 66  num_tl_90g_dpd_24m                   12180 non-null  float64\n",
      " 67  num_tl_op_past_12m                   12180 non-null  float64\n",
      " 68  pct_tl_nvr_dlq                       12180 non-null  float64\n",
      " 69  percent_bc_gt_75                     12180 non-null  float64\n",
      " 70  pub_rec_bankruptcies                 12180 non-null  float64\n",
      " 71  tax_liens                            12180 non-null  float64\n",
      " 72  tot_hi_cred_lim                      12180 non-null  float64\n",
      " 73  total_bal_ex_mort                    12180 non-null  float64\n",
      " 74  total_bc_limit                       12180 non-null  float64\n",
      " 75  total_il_high_credit_limit           12180 non-null  float64\n",
      " 76  home_ownership_MORTGAGE              12180 non-null  uint8  \n",
      " 77  home_ownership_OWN                   12180 non-null  uint8  \n",
      " 78  home_ownership_RENT                  12180 non-null  uint8  \n",
      " 79  verification_status_Source Verified  12180 non-null  uint8  \n",
      " 80  verification_status_Verified         12180 non-null  uint8  \n",
      " 81  initial_list_status_w                12180 non-null  uint8  \n",
      " 82  application_type_Joint App           12180 non-null  uint8  \n",
      " 83  hardship_flag_Y                      12180 non-null  uint8  \n",
      " 84  debt_settlement_flag_Y               12180 non-null  uint8  \n",
      "dtypes: float64(76), uint8(9)\n",
      "memory usage: 7.2 MB\n"
     ]
    }
   ],
   "source": [
    "X_train=pd.get_dummies(X_train, drop_first = True)\n",
    "X_train.info()"
   ]
  },
  {
   "cell_type": "code",
   "execution_count": 48,
   "metadata": {
    "scrolled": true
   },
   "outputs": [],
   "source": [
    "# Convert categorical data to numeric and separate target feature for testing data\n",
    "y_test = test_df[\"loan_status\"]\n",
    "X_test = test_df.drop([\"Unnamed: 0\", \"index\", \"loan_status\"], axis = 1)"
   ]
  },
  {
   "cell_type": "code",
   "execution_count": 49,
   "metadata": {},
   "outputs": [
    {
     "name": "stdout",
     "output_type": "stream",
     "text": [
      "<class 'pandas.core.frame.DataFrame'>\n",
      "RangeIndex: 4702 entries, 0 to 4701\n",
      "Data columns (total 84 columns):\n",
      " #   Column                               Non-Null Count  Dtype  \n",
      "---  ------                               --------------  -----  \n",
      " 0   loan_amnt                            4702 non-null   float64\n",
      " 1   int_rate                             4702 non-null   float64\n",
      " 2   installment                          4702 non-null   float64\n",
      " 3   annual_inc                           4702 non-null   float64\n",
      " 4   dti                                  4702 non-null   float64\n",
      " 5   delinq_2yrs                          4702 non-null   float64\n",
      " 6   inq_last_6mths                       4702 non-null   float64\n",
      " 7   open_acc                             4702 non-null   float64\n",
      " 8   pub_rec                              4702 non-null   float64\n",
      " 9   revol_bal                            4702 non-null   float64\n",
      " 10  total_acc                            4702 non-null   float64\n",
      " 11  out_prncp                            4702 non-null   float64\n",
      " 12  out_prncp_inv                        4702 non-null   float64\n",
      " 13  total_pymnt                          4702 non-null   float64\n",
      " 14  total_pymnt_inv                      4702 non-null   float64\n",
      " 15  total_rec_prncp                      4702 non-null   float64\n",
      " 16  total_rec_int                        4702 non-null   float64\n",
      " 17  total_rec_late_fee                   4702 non-null   float64\n",
      " 18  recoveries                           4702 non-null   float64\n",
      " 19  collection_recovery_fee              4702 non-null   float64\n",
      " 20  last_pymnt_amnt                      4702 non-null   float64\n",
      " 21  collections_12_mths_ex_med           4702 non-null   float64\n",
      " 22  policy_code                          4702 non-null   float64\n",
      " 23  acc_now_delinq                       4702 non-null   float64\n",
      " 24  tot_coll_amt                         4702 non-null   float64\n",
      " 25  tot_cur_bal                          4702 non-null   float64\n",
      " 26  open_acc_6m                          4702 non-null   float64\n",
      " 27  open_act_il                          4702 non-null   float64\n",
      " 28  open_il_12m                          4702 non-null   float64\n",
      " 29  open_il_24m                          4702 non-null   float64\n",
      " 30  mths_since_rcnt_il                   4702 non-null   float64\n",
      " 31  total_bal_il                         4702 non-null   float64\n",
      " 32  il_util                              4702 non-null   float64\n",
      " 33  open_rv_12m                          4702 non-null   float64\n",
      " 34  open_rv_24m                          4702 non-null   float64\n",
      " 35  max_bal_bc                           4702 non-null   float64\n",
      " 36  all_util                             4702 non-null   float64\n",
      " 37  total_rev_hi_lim                     4702 non-null   float64\n",
      " 38  inq_fi                               4702 non-null   float64\n",
      " 39  total_cu_tl                          4702 non-null   float64\n",
      " 40  inq_last_12m                         4702 non-null   float64\n",
      " 41  acc_open_past_24mths                 4702 non-null   float64\n",
      " 42  avg_cur_bal                          4702 non-null   float64\n",
      " 43  bc_open_to_buy                       4702 non-null   float64\n",
      " 44  bc_util                              4702 non-null   float64\n",
      " 45  chargeoff_within_12_mths             4702 non-null   float64\n",
      " 46  delinq_amnt                          4702 non-null   float64\n",
      " 47  mo_sin_old_il_acct                   4702 non-null   float64\n",
      " 48  mo_sin_old_rev_tl_op                 4702 non-null   float64\n",
      " 49  mo_sin_rcnt_rev_tl_op                4702 non-null   float64\n",
      " 50  mo_sin_rcnt_tl                       4702 non-null   float64\n",
      " 51  mort_acc                             4702 non-null   float64\n",
      " 52  mths_since_recent_bc                 4702 non-null   float64\n",
      " 53  mths_since_recent_inq                4702 non-null   float64\n",
      " 54  num_accts_ever_120_pd                4702 non-null   float64\n",
      " 55  num_actv_bc_tl                       4702 non-null   float64\n",
      " 56  num_actv_rev_tl                      4702 non-null   float64\n",
      " 57  num_bc_sats                          4702 non-null   float64\n",
      " 58  num_bc_tl                            4702 non-null   float64\n",
      " 59  num_il_tl                            4702 non-null   float64\n",
      " 60  num_op_rev_tl                        4702 non-null   float64\n",
      " 61  num_rev_accts                        4702 non-null   float64\n",
      " 62  num_rev_tl_bal_gt_0                  4702 non-null   float64\n",
      " 63  num_sats                             4702 non-null   float64\n",
      " 64  num_tl_120dpd_2m                     4702 non-null   float64\n",
      " 65  num_tl_30dpd                         4702 non-null   float64\n",
      " 66  num_tl_90g_dpd_24m                   4702 non-null   float64\n",
      " 67  num_tl_op_past_12m                   4702 non-null   float64\n",
      " 68  pct_tl_nvr_dlq                       4702 non-null   float64\n",
      " 69  percent_bc_gt_75                     4702 non-null   float64\n",
      " 70  pub_rec_bankruptcies                 4702 non-null   float64\n",
      " 71  tax_liens                            4702 non-null   float64\n",
      " 72  tot_hi_cred_lim                      4702 non-null   float64\n",
      " 73  total_bal_ex_mort                    4702 non-null   float64\n",
      " 74  total_bc_limit                       4702 non-null   float64\n",
      " 75  total_il_high_credit_limit           4702 non-null   float64\n",
      " 76  home_ownership_MORTGAGE              4702 non-null   uint8  \n",
      " 77  home_ownership_OWN                   4702 non-null   uint8  \n",
      " 78  home_ownership_RENT                  4702 non-null   uint8  \n",
      " 79  verification_status_Source Verified  4702 non-null   uint8  \n",
      " 80  verification_status_Verified         4702 non-null   uint8  \n",
      " 81  initial_list_status_w                4702 non-null   uint8  \n",
      " 82  application_type_Joint App           4702 non-null   uint8  \n",
      " 83  hardship_flag_Y                      4702 non-null   uint8  \n",
      "dtypes: float64(76), uint8(8)\n",
      "memory usage: 2.8 MB\n"
     ]
    }
   ],
   "source": [
    "X_test = pd.get_dummies(X_test, drop_first = True)\n",
    "X_test.info()"
   ]
  },
  {
   "cell_type": "code",
   "execution_count": 50,
   "metadata": {},
   "outputs": [
    {
     "name": "stdout",
     "output_type": "stream",
     "text": [
      "<class 'pandas.core.frame.DataFrame'>\n",
      "RangeIndex: 4702 entries, 0 to 4701\n",
      "Data columns (total 85 columns):\n",
      " #   Column                               Non-Null Count  Dtype  \n",
      "---  ------                               --------------  -----  \n",
      " 0   loan_amnt                            4702 non-null   float64\n",
      " 1   int_rate                             4702 non-null   float64\n",
      " 2   installment                          4702 non-null   float64\n",
      " 3   annual_inc                           4702 non-null   float64\n",
      " 4   dti                                  4702 non-null   float64\n",
      " 5   delinq_2yrs                          4702 non-null   float64\n",
      " 6   inq_last_6mths                       4702 non-null   float64\n",
      " 7   open_acc                             4702 non-null   float64\n",
      " 8   pub_rec                              4702 non-null   float64\n",
      " 9   revol_bal                            4702 non-null   float64\n",
      " 10  total_acc                            4702 non-null   float64\n",
      " 11  out_prncp                            4702 non-null   float64\n",
      " 12  out_prncp_inv                        4702 non-null   float64\n",
      " 13  total_pymnt                          4702 non-null   float64\n",
      " 14  total_pymnt_inv                      4702 non-null   float64\n",
      " 15  total_rec_prncp                      4702 non-null   float64\n",
      " 16  total_rec_int                        4702 non-null   float64\n",
      " 17  total_rec_late_fee                   4702 non-null   float64\n",
      " 18  recoveries                           4702 non-null   float64\n",
      " 19  collection_recovery_fee              4702 non-null   float64\n",
      " 20  last_pymnt_amnt                      4702 non-null   float64\n",
      " 21  collections_12_mths_ex_med           4702 non-null   float64\n",
      " 22  policy_code                          4702 non-null   float64\n",
      " 23  acc_now_delinq                       4702 non-null   float64\n",
      " 24  tot_coll_amt                         4702 non-null   float64\n",
      " 25  tot_cur_bal                          4702 non-null   float64\n",
      " 26  open_acc_6m                          4702 non-null   float64\n",
      " 27  open_act_il                          4702 non-null   float64\n",
      " 28  open_il_12m                          4702 non-null   float64\n",
      " 29  open_il_24m                          4702 non-null   float64\n",
      " 30  mths_since_rcnt_il                   4702 non-null   float64\n",
      " 31  total_bal_il                         4702 non-null   float64\n",
      " 32  il_util                              4702 non-null   float64\n",
      " 33  open_rv_12m                          4702 non-null   float64\n",
      " 34  open_rv_24m                          4702 non-null   float64\n",
      " 35  max_bal_bc                           4702 non-null   float64\n",
      " 36  all_util                             4702 non-null   float64\n",
      " 37  total_rev_hi_lim                     4702 non-null   float64\n",
      " 38  inq_fi                               4702 non-null   float64\n",
      " 39  total_cu_tl                          4702 non-null   float64\n",
      " 40  inq_last_12m                         4702 non-null   float64\n",
      " 41  acc_open_past_24mths                 4702 non-null   float64\n",
      " 42  avg_cur_bal                          4702 non-null   float64\n",
      " 43  bc_open_to_buy                       4702 non-null   float64\n",
      " 44  bc_util                              4702 non-null   float64\n",
      " 45  chargeoff_within_12_mths             4702 non-null   float64\n",
      " 46  delinq_amnt                          4702 non-null   float64\n",
      " 47  mo_sin_old_il_acct                   4702 non-null   float64\n",
      " 48  mo_sin_old_rev_tl_op                 4702 non-null   float64\n",
      " 49  mo_sin_rcnt_rev_tl_op                4702 non-null   float64\n",
      " 50  mo_sin_rcnt_tl                       4702 non-null   float64\n",
      " 51  mort_acc                             4702 non-null   float64\n",
      " 52  mths_since_recent_bc                 4702 non-null   float64\n",
      " 53  mths_since_recent_inq                4702 non-null   float64\n",
      " 54  num_accts_ever_120_pd                4702 non-null   float64\n",
      " 55  num_actv_bc_tl                       4702 non-null   float64\n",
      " 56  num_actv_rev_tl                      4702 non-null   float64\n",
      " 57  num_bc_sats                          4702 non-null   float64\n",
      " 58  num_bc_tl                            4702 non-null   float64\n",
      " 59  num_il_tl                            4702 non-null   float64\n",
      " 60  num_op_rev_tl                        4702 non-null   float64\n",
      " 61  num_rev_accts                        4702 non-null   float64\n",
      " 62  num_rev_tl_bal_gt_0                  4702 non-null   float64\n",
      " 63  num_sats                             4702 non-null   float64\n",
      " 64  num_tl_120dpd_2m                     4702 non-null   float64\n",
      " 65  num_tl_30dpd                         4702 non-null   float64\n",
      " 66  num_tl_90g_dpd_24m                   4702 non-null   float64\n",
      " 67  num_tl_op_past_12m                   4702 non-null   float64\n",
      " 68  pct_tl_nvr_dlq                       4702 non-null   float64\n",
      " 69  percent_bc_gt_75                     4702 non-null   float64\n",
      " 70  pub_rec_bankruptcies                 4702 non-null   float64\n",
      " 71  tax_liens                            4702 non-null   float64\n",
      " 72  tot_hi_cred_lim                      4702 non-null   float64\n",
      " 73  total_bal_ex_mort                    4702 non-null   float64\n",
      " 74  total_bc_limit                       4702 non-null   float64\n",
      " 75  total_il_high_credit_limit           4702 non-null   float64\n",
      " 76  home_ownership_MORTGAGE              4702 non-null   uint8  \n",
      " 77  home_ownership_OWN                   4702 non-null   uint8  \n",
      " 78  home_ownership_RENT                  4702 non-null   uint8  \n",
      " 79  verification_status_Source Verified  4702 non-null   uint8  \n",
      " 80  verification_status_Verified         4702 non-null   uint8  \n",
      " 81  initial_list_status_w                4702 non-null   uint8  \n",
      " 82  application_type_Joint App           4702 non-null   uint8  \n",
      " 83  hardship_flag_Y                      4702 non-null   uint8  \n",
      " 84  debt_settlement_flag_Y               4702 non-null   int64  \n",
      "dtypes: float64(76), int64(1), uint8(8)\n",
      "memory usage: 2.8 MB\n"
     ]
    }
   ],
   "source": [
    "# add missing dummy variables to testing set\n",
    "X_test[\"debt_settlement_flag_Y\"] = 0\n",
    "X_test.info()"
   ]
  },
  {
   "cell_type": "code",
   "execution_count": 53,
   "metadata": {},
   "outputs": [
    {
     "name": "stdout",
     "output_type": "stream",
     "text": [
      "Training Data Score: 0.7020525451559935\n",
      "Testing Data Score: 0.5759251382390472\n"
     ]
    }
   ],
   "source": [
    "# Train the Logistic Regression model on the unscaled data and print the model score\n",
    "classifier = LogisticRegression(max_iter=15000)\n",
    "classifier.fit(X_train, y_train)\n",
    "print(f\"Training Data Score: {classifier.score(X_train, y_train)}\")\n",
    "print(f\"Testing Data Score: {classifier.score(X_test, y_test)}\")"
   ]
  },
  {
   "cell_type": "code",
   "execution_count": 54,
   "metadata": {},
   "outputs": [
    {
     "name": "stdout",
     "output_type": "stream",
     "text": [
      "Training Score: 1.000\n",
      "Testing Score: 0.631\n"
     ]
    }
   ],
   "source": [
    "# Train a Random Forest Classifier model and print the model score\n",
    "clf = RandomForestClassifier(random_state=1, n_estimators=50).fit(X_train, y_train)\n",
    "print(f'Training Score: {clf.score(X_train, y_train):.3f}')\n",
    "print(f'Testing Score: {clf.score(X_test, y_test):.3f}')"
   ]
  },
  {
   "cell_type": "code",
   "execution_count": 55,
   "metadata": {},
   "outputs": [],
   "source": [
    "# Scale the data\n",
    "scaler = StandardScaler().fit(X_train)\n",
    "\n",
    "X_train_scaled = scaler.transform(X_train)\n",
    "X_test_scaled = scaler.transform(X_test)"
   ]
  },
  {
   "cell_type": "code",
   "execution_count": 56,
   "metadata": {},
   "outputs": [
    {
     "name": "stdout",
     "output_type": "stream",
     "text": [
      "Training Data Score: 0.708\n",
      "Testing Data Score: 0.768\n"
     ]
    }
   ],
   "source": [
    "# Train the Logistic Regression model on the scaled data and print the model score\n",
    "classifier = LogisticRegression(max_iter=15000)\n",
    "classifier.fit(X_train_scaled, y_train)\n",
    "print(f\"Training Data Score: {classifier.score(X_train_scaled, y_train):.3f}\")\n",
    "print(f\"Testing Data Score: {classifier.score(X_test_scaled, y_test):.3f}\")"
   ]
  },
  {
   "cell_type": "code",
   "execution_count": 57,
   "metadata": {},
   "outputs": [
    {
     "name": "stdout",
     "output_type": "stream",
     "text": [
      "Training Score: 1.000\n",
      "Testing Score: 0.631\n"
     ]
    }
   ],
   "source": [
    "# Train a Random Forest Classifier model on the scaled data and print the model score\n",
    "clf = RandomForestClassifier(random_state=1, n_estimators=50).fit(X_train_scaled, y_train)\n",
    "print(f'Training Score: {clf.score(X_train_scaled, y_train):.3f}')\n",
    "print(f'Testing Score: {clf.score(X_test_scaled, y_test):.3f}')"
   ]
  }
 ],
 "metadata": {
  "kernelspec": {
   "display_name": "Python 3 (ipykernel)",
   "language": "python",
   "name": "python3"
  },
  "language_info": {
   "codemirror_mode": {
    "name": "ipython",
    "version": 3
   },
   "file_extension": ".py",
   "mimetype": "text/x-python",
   "name": "python",
   "nbconvert_exporter": "python",
   "pygments_lexer": "ipython3",
   "version": "3.9.7"
  }
 },
 "nbformat": 4,
 "nbformat_minor": 4
}
